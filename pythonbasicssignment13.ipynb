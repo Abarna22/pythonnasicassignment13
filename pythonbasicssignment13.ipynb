{
 "cells": [
  {
   "cell_type": "code",
   "execution_count": 2,
   "id": "70a278cb",
   "metadata": {},
   "outputs": [
    {
     "name": "stdout",
     "output_type": "stream",
     "text": [
      "D:100,150,180\n",
      "[18, 22, 24]\n"
     ]
    }
   ],
   "source": [
    "#qp1\n",
    "import math\n",
    "C=50\n",
    "H=30\n",
    "num=input(\"D:\")\n",
    "num=num.split(\",\")\n",
    "result=[]\n",
    "for D in num:\n",
    "    q=round(math.sqrt((2 * C * int(D))/H))\n",
    "    result.append(q)\n",
    "    \n",
    "print(result)"
   ]
  },
  {
   "cell_type": "code",
   "execution_count": 6,
   "id": "589583cc",
   "metadata": {},
   "outputs": [
    {
     "name": "stdout",
     "output_type": "stream",
     "text": [
      "Enter the rows:3\n",
      "enter the columns:5\n",
      "[[0, 0, 0, 0, 0], [0, 1, 2, 3, 4], [0, 2, 4, 6, 8]]\n"
     ]
    }
   ],
   "source": [
    "#qp2\n",
    "\n",
    "x=int(input(\"Enter the rows:\"))\n",
    "y=int(input(\"enter the columns:\"))\n",
    "z=[[0 for c in range(y)]for r in range(x)]\n",
    "for i in range(x):\n",
    "   for j in range(y):\n",
    "        z[i][j]=i*j\n",
    "print(z)"
   ]
  },
  {
   "cell_type": "code",
   "execution_count": 9,
   "id": "ad3488fa",
   "metadata": {},
   "outputs": [
    {
     "name": "stdout",
     "output_type": "stream",
     "text": [
      "Enter words:without,hello,bag,world\n",
      "after sorting: ['bag', 'hello', 'without', 'world']\n"
     ]
    }
   ],
   "source": [
    "#qp3\n",
    "\n",
    "s=input(\"Enter words:\")\n",
    "s=s.split(\",\")\n",
    "s.sort()\n",
    "print(\"after sorting:\", s)"
   ]
  },
  {
   "cell_type": "code",
   "execution_count": 25,
   "id": "4e142fb5",
   "metadata": {},
   "outputs": [
    {
     "name": "stdout",
     "output_type": "stream",
     "text": [
      "Enter the string:hello world and practice makes perfect and hello world again\n",
      "again and hello makes perfect practice world\n"
     ]
    }
   ],
   "source": [
    "#qp4\n",
    "\n",
    "s= input(\"Enter the string:\")\n",
    "S=s.split(\" \")\n",
    "a=set(S)\n",
    "l=list(a)\n",
    "l.sort()\n",
    "print((' ').join(l))"
   ]
  },
  {
   "cell_type": "code",
   "execution_count": 11,
   "id": "d0297fda",
   "metadata": {},
   "outputs": [
    {
     "name": "stdout",
     "output_type": "stream",
     "text": [
      "Enter the string and number combination:hello world! 123\n",
      "No of letters: 10\n",
      "No of integers: 3\n"
     ]
    }
   ],
   "source": [
    "#qp5\n",
    "\n",
    "a=input(\"Enter the string and number combination:\")\n",
    "\n",
    "n=0\n",
    "s=0\n",
    "for i in a:\n",
    "    if i.isdigit():\n",
    "        n+=1\n",
    "    elif i.isalpha():\n",
    "        s+=1\n",
    "    else:\n",
    "        pass\n",
    "     \n",
    "\n",
    "print(\"No of letters:\", s)\n",
    "print(\"No of integers:\", n)\n",
    "\n"
   ]
  },
  {
   "cell_type": "code",
   "execution_count": 18,
   "id": "0e0eb68e",
   "metadata": {},
   "outputs": [
    {
     "name": "stdout",
     "output_type": "stream",
     "text": [
      "Type in: ABd1234@1,a F1#,2w3E*,2We3345\n",
      "ABd1234@1\n"
     ]
    }
   ],
   "source": [
    "#qp6\n",
    "\n",
    "import re\n",
    "\n",
    "passwords = input(\"Type in: \")\n",
    "passwords = passwords.split(\",\")\n",
    "\n",
    "accepted_pass = []\n",
    "for i in passwords:\n",
    "    \n",
    "    if len(i) < 6 or len(i) > 12:\n",
    "        continue\n",
    "\n",
    "    elif not re.search(\"([a-z])+\", i):\n",
    "        continue\n",
    "\n",
    "    elif not re.search(\"([A-Z])+\", i):\n",
    "        continue\n",
    "\n",
    "    elif not re.search(\"([0-9])+\", i):\n",
    "        continue\n",
    "\n",
    "    elif not re.search(\"([!@$%^&])+\", i):\n",
    "        continue\n",
    "\n",
    "    else:\n",
    "        accepted_pass.append(i)\n",
    "\n",
    "print((\" \").join(accepted_pass))"
   ]
  },
  {
   "cell_type": "code",
   "execution_count": null,
   "id": "2dcc2a6d",
   "metadata": {},
   "outputs": [],
   "source": []
  }
 ],
 "metadata": {
  "kernelspec": {
   "display_name": "Python 3",
   "language": "python",
   "name": "python3"
  }
 },
 "nbformat": 4,
 "nbformat_minor": 5
}
